{
  "nbformat": 4,
  "nbformat_minor": 0,
  "metadata": {
    "colab": {
      "name": "Wind_data.ipynb",
      "provenance": [],
      "include_colab_link": true
    },
    "kernelspec": {
      "name": "python3",
      "display_name": "Python 3"
    }
  },
  "cells": [
    {
      "cell_type": "markdown",
      "metadata": {
        "id": "view-in-github",
        "colab_type": "text"
      },
      "source": [
        "<a href=\"https://colab.research.google.com/github/HB5101/Wind-Speed-Forecasting/blob/main/Wind_Speed_Forecasting.ipynb\" target=\"_parent\"><img src=\"https://colab.research.google.com/assets/colab-badge.svg\" alt=\"Open In Colab\"/></a>"
      ]
    },
    {
      "cell_type": "code",
      "metadata": {
        "id": "PJrJGUyg8R9a"
      },
      "source": [
        "import pandas as pd\n",
        "import numpy as np\n",
        "import matplotlib.pyplot as plt\n",
        "import seaborn as sns"
      ],
      "execution_count": null,
      "outputs": []
    },
    {
      "cell_type": "code",
      "metadata": {
        "id": "7iBm7Jk0yGCt"
      },
      "source": [
        "from statsmodels.graphics.tsaplots import plot_pacf\n",
        "from statsmodels.graphics.tsaplots import plot_acf\n",
        "from statsmodels.tsa.arima_process import ArmaProcess\n",
        "from statsmodels.tsa.stattools import pacf\n",
        "from statsmodels.regression.linear_model import yule_walker\n",
        "from statsmodels.tsa.stattools import adfuller\n",
        "import matplotlib.pyplot as plt\n",
        "import numpy as np\n",
        "%matplotlib inline"
      ],
      "execution_count": null,
      "outputs": []
    },
    {
      "cell_type": "code",
      "metadata": {
        "id": "NiMHuwdxoL03",
        "colab": {
          "base_uri": "https://localhost:8080/",
          "height": 693
        },
        "outputId": "06f2450b-ab65-42a3-cfcd-80570f9c1425"
      },
      "source": [
        "pip install pmdarima"
      ],
      "execution_count": null,
      "outputs": [
        {
          "output_type": "stream",
          "text": [
            "Collecting pmdarima\n",
            "\u001b[?25l  Downloading https://files.pythonhosted.org/packages/be/62/725b3b6ae0e56c77534de5a8139322e7b863ca53fd5bd6bd3b7de87d0c20/pmdarima-1.7.1-cp36-cp36m-manylinux1_x86_64.whl (1.5MB)\n",
            "\u001b[K     |████████████████████████████████| 1.5MB 5.6MB/s \n",
            "\u001b[?25hRequirement already satisfied: joblib>=0.11 in /usr/local/lib/python3.6/dist-packages (from pmdarima) (0.17.0)\n",
            "Requirement already satisfied: pandas>=0.19 in /usr/local/lib/python3.6/dist-packages (from pmdarima) (1.1.4)\n",
            "Collecting statsmodels<0.12,>=0.11\n",
            "\u001b[?25l  Downloading https://files.pythonhosted.org/packages/cb/83/540fd83238a18abe6c2d280fa8e489ac5fcefa1f370f0ca1acd16ae1b860/statsmodels-0.11.1-cp36-cp36m-manylinux1_x86_64.whl (8.7MB)\n",
            "\u001b[K     |████████████████████████████████| 8.7MB 5.0MB/s \n",
            "\u001b[?25hRequirement already satisfied: numpy>=1.17.3 in /usr/local/lib/python3.6/dist-packages (from pmdarima) (1.18.5)\n",
            "Collecting setuptools<50.0.0\n",
            "\u001b[?25l  Downloading https://files.pythonhosted.org/packages/c3/a9/5dc32465951cf4812e9e93b4ad2d314893c2fa6d5f66ce5c057af6e76d85/setuptools-49.6.0-py3-none-any.whl (803kB)\n",
            "\u001b[K     |████████████████████████████████| 808kB 40.3MB/s \n",
            "\u001b[?25hRequirement already satisfied: scipy>=1.3.2 in /usr/local/lib/python3.6/dist-packages (from pmdarima) (1.4.1)\n",
            "Collecting Cython<0.29.18,>=0.29\n",
            "\u001b[?25l  Downloading https://files.pythonhosted.org/packages/e7/d7/510ddef0248f3e1e91f9cc7e31c0f35f8954d0af92c5c3fd4c853e859ebe/Cython-0.29.17-cp36-cp36m-manylinux1_x86_64.whl (2.1MB)\n",
            "\u001b[K     |████████████████████████████████| 2.1MB 47.2MB/s \n",
            "\u001b[?25hRequirement already satisfied: urllib3 in /usr/local/lib/python3.6/dist-packages (from pmdarima) (1.24.3)\n",
            "Requirement already satisfied: scikit-learn>=0.22 in /usr/local/lib/python3.6/dist-packages (from pmdarima) (0.22.2.post1)\n",
            "Requirement already satisfied: python-dateutil>=2.7.3 in /usr/local/lib/python3.6/dist-packages (from pandas>=0.19->pmdarima) (2.8.1)\n",
            "Requirement already satisfied: pytz>=2017.2 in /usr/local/lib/python3.6/dist-packages (from pandas>=0.19->pmdarima) (2018.9)\n",
            "Requirement already satisfied: patsy>=0.5 in /usr/local/lib/python3.6/dist-packages (from statsmodels<0.12,>=0.11->pmdarima) (0.5.1)\n",
            "Requirement already satisfied: six>=1.5 in /usr/local/lib/python3.6/dist-packages (from python-dateutil>=2.7.3->pandas>=0.19->pmdarima) (1.15.0)\n",
            "\u001b[31mERROR: datascience 0.10.6 has requirement folium==0.2.1, but you'll have folium 0.8.3 which is incompatible.\u001b[0m\n",
            "Installing collected packages: statsmodels, setuptools, Cython, pmdarima\n",
            "  Found existing installation: statsmodels 0.12.1\n",
            "    Uninstalling statsmodels-0.12.1:\n",
            "      Successfully uninstalled statsmodels-0.12.1\n",
            "  Found existing installation: setuptools 50.3.2\n",
            "    Uninstalling setuptools-50.3.2:\n",
            "      Successfully uninstalled setuptools-50.3.2\n",
            "  Found existing installation: Cython 0.29.21\n",
            "    Uninstalling Cython-0.29.21:\n",
            "      Successfully uninstalled Cython-0.29.21\n",
            "Successfully installed Cython-0.29.17 pmdarima-1.7.1 setuptools-49.6.0 statsmodels-0.11.1\n"
          ],
          "name": "stdout"
        },
        {
          "output_type": "display_data",
          "data": {
            "application/vnd.colab-display-data+json": {
              "pip_warning": {
                "packages": [
                  "pkg_resources",
                  "statsmodels"
                ]
              }
            }
          },
          "metadata": {
            "tags": []
          }
        }
      ]
    },
    {
      "cell_type": "code",
      "metadata": {
        "colab": {
          "base_uri": "https://localhost:8080/"
        },
        "id": "vOtBev0CPmhe",
        "outputId": "25566286-da13-45d0-e456-fab3e932bdbe"
      },
      "source": [
        "!pip install statsmodels --upgrade"
      ],
      "execution_count": null,
      "outputs": [
        {
          "output_type": "stream",
          "text": [
            "Collecting statsmodels\n",
            "  Using cached https://files.pythonhosted.org/packages/be/4c/9e2435ca6645d6bafa2b51bb11f0a365b28934a2ffe9d6e339d67130926d/statsmodels-0.12.1-cp36-cp36m-manylinux1_x86_64.whl\n",
            "Requirement already satisfied, skipping upgrade: patsy>=0.5 in /usr/local/lib/python3.6/dist-packages (from statsmodels) (0.5.1)\n",
            "Requirement already satisfied, skipping upgrade: pandas>=0.21 in /usr/local/lib/python3.6/dist-packages (from statsmodels) (1.1.4)\n",
            "Requirement already satisfied, skipping upgrade: scipy>=1.1 in /usr/local/lib/python3.6/dist-packages (from statsmodels) (1.4.1)\n",
            "Requirement already satisfied, skipping upgrade: numpy>=1.15 in /usr/local/lib/python3.6/dist-packages (from statsmodels) (1.18.5)\n",
            "Requirement already satisfied, skipping upgrade: six in /usr/local/lib/python3.6/dist-packages (from patsy>=0.5->statsmodels) (1.15.0)\n",
            "Requirement already satisfied, skipping upgrade: pytz>=2017.2 in /usr/local/lib/python3.6/dist-packages (from pandas>=0.21->statsmodels) (2018.9)\n",
            "Requirement already satisfied, skipping upgrade: python-dateutil>=2.7.3 in /usr/local/lib/python3.6/dist-packages (from pandas>=0.21->statsmodels) (2.8.1)\n",
            "\u001b[31mERROR: Operation cancelled by user\u001b[0m\n"
          ],
          "name": "stdout"
        }
      ]
    },
    {
      "cell_type": "code",
      "metadata": {
        "id": "MWXsAtQmPKdE"
      },
      "source": [
        "from statsmodels.tsa.ar_model import AutoReg\n",
        "from statsmodels.tsa.arima_model import ARMA"
      ],
      "execution_count": null,
      "outputs": []
    },
    {
      "cell_type": "code",
      "metadata": {
        "id": "hbzYTy4fJYRj"
      },
      "source": [
        "r1_2000=pd.read_csv(\"/content/drive/MyDrive/rajasthan1.csv\")"
      ],
      "execution_count": null,
      "outputs": []
    },
    {
      "cell_type": "code",
      "metadata": {
        "colab": {
          "base_uri": "https://localhost:8080/",
          "height": 431
        },
        "id": "RQZ5rYEGJdLd",
        "outputId": "8fe70542-7f76-4bd1-8662-5ae52816ed56"
      },
      "source": [
        "r1_2000\n"
      ],
      "execution_count": null,
      "outputs": [
        {
          "output_type": "execute_result",
          "data": {
            "text/html": [
              "<div>\n",
              "<style scoped>\n",
              "    .dataframe tbody tr th:only-of-type {\n",
              "        vertical-align: middle;\n",
              "    }\n",
              "\n",
              "    .dataframe tbody tr th {\n",
              "        vertical-align: top;\n",
              "    }\n",
              "\n",
              "    .dataframe thead th {\n",
              "        text-align: right;\n",
              "    }\n",
              "</style>\n",
              "<table border=\"1\" class=\"dataframe\">\n",
              "  <thead>\n",
              "    <tr style=\"text-align: right;\">\n",
              "      <th></th>\n",
              "      <th>DHI</th>\n",
              "      <th>DNI</th>\n",
              "      <th>GHI</th>\n",
              "      <th>Dew Point</th>\n",
              "      <th>Temperature</th>\n",
              "      <th>Pressure</th>\n",
              "      <th>Relative Humidity</th>\n",
              "      <th>Wind Speed</th>\n",
              "      <th>Speed First Difference</th>\n",
              "    </tr>\n",
              "    <tr>\n",
              "      <th>date</th>\n",
              "      <th></th>\n",
              "      <th></th>\n",
              "      <th></th>\n",
              "      <th></th>\n",
              "      <th></th>\n",
              "      <th></th>\n",
              "      <th></th>\n",
              "      <th></th>\n",
              "      <th></th>\n",
              "    </tr>\n",
              "  </thead>\n",
              "  <tbody>\n",
              "    <tr>\n",
              "      <th>2000-01-01</th>\n",
              "      <td>52.750000</td>\n",
              "      <td>241.666667</td>\n",
              "      <td>175.166667</td>\n",
              "      <td>-4.208333</td>\n",
              "      <td>18.537324</td>\n",
              "      <td>984.880163</td>\n",
              "      <td>21.366030</td>\n",
              "      <td>3.374157</td>\n",
              "      <td>NaN</td>\n",
              "    </tr>\n",
              "    <tr>\n",
              "      <th>2000-01-02</th>\n",
              "      <td>53.208333</td>\n",
              "      <td>239.125000</td>\n",
              "      <td>174.375000</td>\n",
              "      <td>-5.625000</td>\n",
              "      <td>19.550770</td>\n",
              "      <td>986.009687</td>\n",
              "      <td>17.562523</td>\n",
              "      <td>3.120238</td>\n",
              "      <td>NaN</td>\n",
              "    </tr>\n",
              "    <tr>\n",
              "      <th>2000-01-03</th>\n",
              "      <td>50.250000</td>\n",
              "      <td>248.750000</td>\n",
              "      <td>176.375000</td>\n",
              "      <td>-6.833333</td>\n",
              "      <td>19.184883</td>\n",
              "      <td>985.678571</td>\n",
              "      <td>16.805716</td>\n",
              "      <td>2.474218</td>\n",
              "      <td>NaN</td>\n",
              "    </tr>\n",
              "    <tr>\n",
              "      <th>2000-01-04</th>\n",
              "      <td>51.208333</td>\n",
              "      <td>243.041667</td>\n",
              "      <td>175.500000</td>\n",
              "      <td>-7.541667</td>\n",
              "      <td>18.969217</td>\n",
              "      <td>984.769948</td>\n",
              "      <td>16.300337</td>\n",
              "      <td>1.710244</td>\n",
              "      <td>NaN</td>\n",
              "    </tr>\n",
              "    <tr>\n",
              "      <th>2000-01-05</th>\n",
              "      <td>52.541667</td>\n",
              "      <td>238.083333</td>\n",
              "      <td>174.208333</td>\n",
              "      <td>-8.291667</td>\n",
              "      <td>18.950465</td>\n",
              "      <td>986.073947</td>\n",
              "      <td>15.110776</td>\n",
              "      <td>1.780105</td>\n",
              "      <td>NaN</td>\n",
              "    </tr>\n",
              "    <tr>\n",
              "      <th>...</th>\n",
              "      <td>...</td>\n",
              "      <td>...</td>\n",
              "      <td>...</td>\n",
              "      <td>...</td>\n",
              "      <td>...</td>\n",
              "      <td>...</td>\n",
              "      <td>...</td>\n",
              "      <td>...</td>\n",
              "      <td>...</td>\n",
              "    </tr>\n",
              "    <tr>\n",
              "      <th>2014-12-27</th>\n",
              "      <td>61.250000</td>\n",
              "      <td>202.166667</td>\n",
              "      <td>163.708333</td>\n",
              "      <td>-8.833333</td>\n",
              "      <td>17.506616</td>\n",
              "      <td>986.973829</td>\n",
              "      <td>15.287237</td>\n",
              "      <td>1.398881</td>\n",
              "      <td>-0.241647</td>\n",
              "    </tr>\n",
              "    <tr>\n",
              "      <th>2014-12-28</th>\n",
              "      <td>60.666667</td>\n",
              "      <td>206.416667</td>\n",
              "      <td>165.833333</td>\n",
              "      <td>-15.125000</td>\n",
              "      <td>16.743939</td>\n",
              "      <td>987.611206</td>\n",
              "      <td>10.108164</td>\n",
              "      <td>2.510863</td>\n",
              "      <td>-0.798204</td>\n",
              "    </tr>\n",
              "    <tr>\n",
              "      <th>2014-12-29</th>\n",
              "      <td>62.041667</td>\n",
              "      <td>200.416667</td>\n",
              "      <td>164.333333</td>\n",
              "      <td>-15.083333</td>\n",
              "      <td>15.726053</td>\n",
              "      <td>985.819700</td>\n",
              "      <td>10.856265</td>\n",
              "      <td>2.678796</td>\n",
              "      <td>-1.635850</td>\n",
              "    </tr>\n",
              "    <tr>\n",
              "      <th>2014-12-30</th>\n",
              "      <td>58.000000</td>\n",
              "      <td>216.458333</td>\n",
              "      <td>168.958333</td>\n",
              "      <td>-16.958333</td>\n",
              "      <td>15.020211</td>\n",
              "      <td>983.795278</td>\n",
              "      <td>9.703215</td>\n",
              "      <td>3.658310</td>\n",
              "      <td>-0.354064</td>\n",
              "    </tr>\n",
              "    <tr>\n",
              "      <th>2014-12-31</th>\n",
              "      <td>61.125000</td>\n",
              "      <td>204.625000</td>\n",
              "      <td>165.916667</td>\n",
              "      <td>-17.750000</td>\n",
              "      <td>14.667126</td>\n",
              "      <td>984.722399</td>\n",
              "      <td>9.388602</td>\n",
              "      <td>4.135693</td>\n",
              "      <td>0.765307</td>\n",
              "    </tr>\n",
              "  </tbody>\n",
              "</table>\n",
              "<p>5479 rows × 9 columns</p>\n",
              "</div>"
            ],
            "text/plain": [
              "                  DHI         DNI  ...  Wind Speed  Speed First Difference\n",
              "date                               ...                                    \n",
              "2000-01-01  52.750000  241.666667  ...    3.374157                     NaN\n",
              "2000-01-02  53.208333  239.125000  ...    3.120238                     NaN\n",
              "2000-01-03  50.250000  248.750000  ...    2.474218                     NaN\n",
              "2000-01-04  51.208333  243.041667  ...    1.710244                     NaN\n",
              "2000-01-05  52.541667  238.083333  ...    1.780105                     NaN\n",
              "...               ...         ...  ...         ...                     ...\n",
              "2014-12-27  61.250000  202.166667  ...    1.398881               -0.241647\n",
              "2014-12-28  60.666667  206.416667  ...    2.510863               -0.798204\n",
              "2014-12-29  62.041667  200.416667  ...    2.678796               -1.635850\n",
              "2014-12-30  58.000000  216.458333  ...    3.658310               -0.354064\n",
              "2014-12-31  61.125000  204.625000  ...    4.135693                0.765307\n",
              "\n",
              "[5479 rows x 9 columns]"
            ]
          },
          "metadata": {
            "tags": []
          },
          "execution_count": 28
        }
      ]
    },
    {
      "cell_type": "code",
      "metadata": {
        "id": "6d0JftvOJurQ"
      },
      "source": [
        "r1_2000.set_index(\"date\",inplace=True)"
      ],
      "execution_count": null,
      "outputs": []
    },
    {
      "cell_type": "code",
      "metadata": {
        "colab": {
          "base_uri": "https://localhost:8080/",
          "height": 677
        },
        "id": "BMYb86ItLFDT",
        "outputId": "76ff8151-e541-40dd-854f-841465b2c955"
      },
      "source": [
        "plt.figure(figsize=(18,11))\n",
        "r1_2000[\"Wind Speed\"].plot()\n",
        "#r1_2000[\"Wind Speed\"][:200].plot()"
      ],
      "execution_count": null,
      "outputs": [
        {
          "output_type": "execute_result",
          "data": {
            "text/plain": [
              "<matplotlib.axes._subplots.AxesSubplot at 0x7fc3abadea20>"
            ]
          },
          "metadata": {
            "tags": []
          },
          "execution_count": 8
        },
        {
          "output_type": "display_data",
          "data": {
            "image/png": "[encoded data removed]",
            "text/plain": [
              "<Figure size 1296x792 with 1 Axes>"
            ]
          },
          "metadata": {
            "tags": [],
            "needs_background": "light"
          }
        }
      ]
    },
    {
      "cell_type": "code",
      "metadata": {
        "id": "_f7FztQ_NMcV"
      },
      "source": [
        "df=r1_2000"
      ],
      "execution_count": null,
      "outputs": []
    },
    {
      "cell_type": "code",
      "metadata": {
        "colab": {
          "base_uri": "https://localhost:8080/"
        },
        "id": "MnEj1kLphL3c",
        "outputId": "494f5c90-373f-4f15-ecad-27b541d23387"
      },
      "source": [
        "len(df)"
      ],
      "execution_count": null,
      "outputs": [
        {
          "output_type": "execute_result",
          "data": {
            "text/plain": [
              "5479"
            ]
          },
          "metadata": {
            "tags": []
          },
          "execution_count": 10
        }
      ]
    },
    {
      "cell_type": "code",
      "metadata": {
        "id": "_ZpktBPALzab"
      },
      "source": [
        "from statsmodels.tsa.stattools import adfuller"
      ],
      "execution_count": null,
      "outputs": []
    },
    {
      "cell_type": "code",
      "metadata": {
        "id": "HIXS-wDPM2-A"
      },
      "source": [
        "test_result=adfuller(df[\"Wind Speed\"])"
      ],
      "execution_count": null,
      "outputs": []
    },
    {
      "cell_type": "code",
      "metadata": {
        "id": "6T_Ni5EcNS76"
      },
      "source": [
        "#Ho : \n",
        "#H1 : \n",
        "def adfuller_test(windspeed):\n",
        "    result=adfuller(windspeed)\n",
        "    labels = ['ADF Test Statistic','p-value','#Lags Used','Number of Observations Used']\n",
        "    for value,label in zip(result,labels):\n",
        "        print(label+' : '+str(value) )\n",
        "    if result[1] <= 0.05:\n",
        "        print(\"strong evidence against the null hypothesis(Ho), reject the null hypothesis. Data has no unit root and is stationary\")\n",
        "    else:\n",
        "        print(\"weak evidence against null hypothesis, time series has a unit root, indicating it is non-stationary \")"
      ],
      "execution_count": null,
      "outputs": []
    },
    {
      "cell_type": "code",
      "metadata": {
        "colab": {
          "base_uri": "https://localhost:8080/"
        },
        "id": "YzksKjdPNWsk",
        "outputId": "6dc65cb1-8c54-4736-9812-ff1eacc34226"
      },
      "source": [
        "adfuller_test(df[\"Wind Speed\"])"
      ],
      "execution_count": null,
      "outputs": [
        {
          "output_type": "stream",
          "text": [
            "ADF Test Statistic : -6.3795250243283546\n",
            "p-value : 2.240211241769144e-08\n",
            "#Lags Used : 31\n",
            "Number of Observations Used : 5447\n",
            "strong evidence against the null hypothesis(Ho), reject the null hypothesis. Data has no unit root and is stationary\n"
          ],
          "name": "stdout"
        }
      ]
    },
    {
      "cell_type": "code",
      "metadata": {
        "id": "9KwZWFiNwwD_"
      },
      "source": [
        "from statsmodels.tsa.stattools import kpss\n",
        "def kpss_test(timeseries):\n",
        "    print ('Results of KPSS Test:')\n",
        "    kpsstest = kpss(timeseries, regression='c', nlags=\"auto\")\n",
        "    kpss_output = pd.Series(kpsstest[0:3], index=['Test Statistic','p-value','Lags Used'])\n",
        "    for key,value in kpsstest[3].items():\n",
        "        kpss_output['Critical Value (%s)'%key] = value\n",
        "    print (kpss_output)"
      ],
      "execution_count": null,
      "outputs": []
    },
    {
      "cell_type": "code",
      "metadata": {
        "colab": {
          "base_uri": "https://localhost:8080/"
        },
        "id": "GjVIn84syqVw",
        "outputId": "7a990a3f-86ca-4c23-d248-00bc7aa7106e"
      },
      "source": [
        "kpss_test(df[\"Wind Speed\"])"
      ],
      "execution_count": null,
      "outputs": [
        {
          "output_type": "stream",
          "text": [
            "Results of KPSS Test:\n",
            "Test Statistic            0.328989\n",
            "p-value                   0.100000\n",
            "Lags Used                37.000000\n",
            "Critical Value (10%)      0.347000\n",
            "Critical Value (5%)       0.463000\n",
            "Critical Value (2.5%)     0.574000\n",
            "Critical Value (1%)       0.739000\n",
            "dtype: float64\n"
          ],
          "name": "stdout"
        },
        {
          "output_type": "stream",
          "text": [
            "/usr/local/lib/python3.6/dist-packages/statsmodels/tsa/stattools.py:1687: InterpolationWarning: p-value is greater than the indicated p-value\n",
            "  warn(\"p-value is greater than the indicated p-value\", InterpolationWarning)\n"
          ],
          "name": "stderr"
        }
      ]
    },
    {
      "cell_type": "code",
      "metadata": {
        "id": "RROvkseXCND5"
      },
      "source": [
        "df['Speed First Difference'] = df['Wind Speed'] - df['Wind Speed'].shift(730)"
      ],
      "execution_count": null,
      "outputs": []
    },
    {
      "cell_type": "code",
      "metadata": {
        "colab": {
          "base_uri": "https://localhost:8080/"
        },
        "id": "1Aso6j43CalF",
        "outputId": "f49d2faa-3073-421c-e215-6a43da6a9ff5"
      },
      "source": [
        "adfuller_test(df['Speed First Difference'].dropna())"
      ],
      "execution_count": null,
      "outputs": [
        {
          "output_type": "stream",
          "text": [
            "ADF Test Statistic : -10.668675216550255\n",
            "p-value : 4.222134320252627e-19\n",
            "#Lags Used : 32\n",
            "Number of Observations Used : 4716\n",
            "strong evidence against the null hypothesis(Ho), reject the null hypothesis. Data has no unit root and is stationary\n"
          ],
          "name": "stdout"
        }
      ]
    },
    {
      "cell_type": "code",
      "metadata": {
        "colab": {
          "base_uri": "https://localhost:8080/"
        },
        "id": "SOz3etV4DDRp",
        "outputId": "3e738067-4ef9-4644-bb1a-06e8f654a4b2"
      },
      "source": [
        "kpss_test(df['Speed First Difference'].dropna())"
      ],
      "execution_count": null,
      "outputs": [
        {
          "output_type": "stream",
          "text": [
            "Results of KPSS Test:\n",
            "Test Statistic            1.187524\n",
            "p-value                   0.010000\n",
            "Lags Used                20.000000\n",
            "Critical Value (10%)      0.347000\n",
            "Critical Value (5%)       0.463000\n",
            "Critical Value (2.5%)     0.574000\n",
            "Critical Value (1%)       0.739000\n",
            "dtype: float64\n"
          ],
          "name": "stdout"
        },
        {
          "output_type": "stream",
          "text": [
            "/usr/local/lib/python3.6/dist-packages/statsmodels/tsa/stattools.py:1685: InterpolationWarning: p-value is smaller than the indicated p-value\n",
            "  warn(\"p-value is smaller than the indicated p-value\", InterpolationWarning)\n"
          ],
          "name": "stderr"
        }
      ]
    },
    {
      "cell_type": "code",
      "metadata": {
        "id": "xiaiD0ghGEz_"
      },
      "source": [
        ""
      ],
      "execution_count": null,
      "outputs": []
    },
    {
      "cell_type": "code",
      "metadata": {
        "colab": {
          "base_uri": "https://localhost:8080/",
          "height": 545
        },
        "id": "taATFuYLNcCy",
        "outputId": "6e8f6a50-5deb-465b-f04c-a1ed28d05375"
      },
      "source": [
        "plot_pacf(df['Speed First Difference'].dropna());\n",
        "plot_acf(df['Speed First Difference'].dropna());"
      ],
      "execution_count": null,
      "outputs": [
        {
          "output_type": "display_data",
          "data": {
            "image/png": "[encoded data removed]",
            "text/plain": [
              "<Figure size 432x288 with 1 Axes>"
            ]
          },
          "metadata": {
            "tags": [],
            "needs_background": "light"
          }
        },
        {
          "output_type": "display_data",
          "data": {
            "image/png": "[encoded data removed]",
            "text/plain": [
              "<Figure size 432x288 with 1 Axes>"
            ]
          },
          "metadata": {
            "tags": [],
            "needs_background": "light"
          }
        }
      ]
    },
    {
      "cell_type": "code",
      "metadata": {
        "id": "02R16WM9PKpg"
      },
      "source": [
        "X = df[\"Wind Speed\"]\n",
        "train= X[:len(X)-30]\n",
        "test = X[len(X)-30:]"
      ],
      "execution_count": null,
      "outputs": []
    },
    {
      "cell_type": "code",
      "metadata": {
        "colab": {
          "base_uri": "https://localhost:8080/"
        },
        "id": "mJrI3sUdQ5ni",
        "outputId": "895db544-6fca-4747-bd49-cd5f757a8efd"
      },
      "source": [
        "model=AutoReg(df[\"Wind Speed\"], lags=1).fit()"
      ],
      "execution_count": null,
      "outputs": [
        {
          "output_type": "stream",
          "text": [
            "/usr/local/lib/python3.6/dist-packages/statsmodels/tsa/base/tsa_model.py:162: ValueWarning: No frequency information was provided, so inferred frequency D will be used.\n",
            "  % freq, ValueWarning)\n"
          ],
          "name": "stderr"
        }
      ]
    },
    {
      "cell_type": "code",
      "metadata": {
        "colab": {
          "base_uri": "https://localhost:8080/",
          "height": 295
        },
        "id": "clVdxmC1S_VN",
        "outputId": "250d117a-b218-4d9f-f254-10d5beabeae0"
      },
      "source": [
        "model.summary()"
      ],
      "execution_count": null,
      "outputs": [
        {
          "output_type": "execute_result",
          "data": {
            "text/html": [
              "<table class=\"simpletable\">\n",
              "<caption>AutoReg Model Results</caption>\n",
              "<tr>\n",
              "  <th>Dep. Variable:</th>    <td>Wind Speed</td>    <th>  No. Observations:  </th>   <td>5479</td>   \n",
              "</tr>\n",
              "<tr>\n",
              "  <th>Model:</th>            <td>AutoReg(1)</td>    <th>  Log Likelihood     </th> <td>-6690.484</td>\n",
              "</tr>\n",
              "<tr>\n",
              "  <th>Method:</th>         <td>Conditional MLE</td> <th>  S.D. of innovations</th>   <td>0.821</td>  \n",
              "</tr>\n",
              "<tr>\n",
              "  <th>Date:</th>          <td>Fri, 27 Nov 2020</td> <th>  AIC                </th>  <td>-0.394</td>  \n",
              "</tr>\n",
              "<tr>\n",
              "  <th>Time:</th>              <td>14:23:43</td>     <th>  BIC                </th>  <td>-0.390</td>  \n",
              "</tr>\n",
              "<tr>\n",
              "  <th>Sample:</th>           <td>01-02-2000</td>    <th>  HQIC               </th>  <td>-0.393</td>  \n",
              "</tr>\n",
              "<tr>\n",
              "  <th></th>                 <td>- 12-31-2014</td>   <th>                     </th>     <td> </td>    \n",
              "</tr>\n",
              "</table>\n",
              "<table class=\"simpletable\">\n",
              "<tr>\n",
              "        <td></td>           <th>coef</th>     <th>std err</th>      <th>z</th>      <th>P>|z|</th>  <th>[0.025</th>    <th>0.975]</th>  \n",
              "</tr>\n",
              "<tr>\n",
              "  <th>intercept</th>     <td>    0.7497</td> <td>    0.029</td> <td>   25.797</td> <td> 0.000</td> <td>    0.693</td> <td>    0.807</td>\n",
              "</tr>\n",
              "<tr>\n",
              "  <th>Wind Speed.L1</th> <td>    0.7510</td> <td>    0.009</td> <td>   84.178</td> <td> 0.000</td> <td>    0.734</td> <td>    0.769</td>\n",
              "</tr>\n",
              "</table>\n",
              "<table class=\"simpletable\">\n",
              "<caption>Roots</caption>\n",
              "<tr>\n",
              "    <td></td>   <th>            Real</th>  <th>         Imaginary</th> <th>         Modulus</th>  <th>        Frequency</th>\n",
              "</tr>\n",
              "<tr>\n",
              "  <th>AR.1</th> <td>           1.3315</td> <td>          +0.0000j</td> <td>           1.3315</td> <td>           0.0000</td>\n",
              "</tr>\n",
              "</table>"
            ],
            "text/plain": [
              "<class 'statsmodels.iolib.summary.Summary'>\n",
              "\"\"\"\n",
              "                            AutoReg Model Results                             \n",
              "==============================================================================\n",
              "Dep. Variable:             Wind Speed   No. Observations:                 5479\n",
              "Model:                     AutoReg(1)   Log Likelihood               -6690.484\n",
              "Method:               Conditional MLE   S.D. of innovations              0.821\n",
              "Date:                Fri, 27 Nov 2020   AIC                             -0.394\n",
              "Time:                        14:23:43   BIC                             -0.390\n",
              "Sample:                    01-02-2000   HQIC                            -0.393\n",
              "                         - 12-31-2014                                         \n",
              "=================================================================================\n",
              "                    coef    std err          z      P>|z|      [0.025      0.975]\n",
              "---------------------------------------------------------------------------------\n",
              "intercept         0.7497      0.029     25.797      0.000       0.693       0.807\n",
              "Wind Speed.L1     0.7510      0.009     84.178      0.000       0.734       0.769\n",
              "                                    Roots                                    \n",
              "=============================================================================\n",
              "                  Real          Imaginary           Modulus         Frequency\n",
              "-----------------------------------------------------------------------------\n",
              "AR.1            1.3315           +0.0000j            1.3315            0.0000\n",
              "-----------------------------------------------------------------------------\n",
              "\"\"\""
            ]
          },
          "metadata": {
            "tags": []
          },
          "execution_count": 31
        }
      ]
    },
    {
      "cell_type": "code",
      "metadata": {
        "id": "O3C2A7zaT0Kb"
      },
      "source": [
        "pred = model.predict(start=len(df)-30, end =len(df)-1)"
      ],
      "execution_count": null,
      "outputs": []
    },
    {
      "cell_type": "code",
      "metadata": {
        "colab": {
          "base_uri": "https://localhost:8080/",
          "height": 788
        },
        "id": "LYM5SBjSUi7J",
        "outputId": "1656bc57-1aee-4903-b642-35f10b022d5b"
      },
      "source": [
        "plt.plot(pred.values)\n",
        "plt.plot(test.values, color ='red')\n",
        "print(pred)"
      ],
      "execution_count": null,
      "outputs": [
        {
          "output_type": "stream",
          "text": [
            "2014-12-02    2.869647\n",
            "2014-12-03    1.907473\n",
            "2014-12-04    1.399602\n",
            "2014-12-05    1.466381\n",
            "2014-12-06    2.231199\n",
            "2014-12-07    2.412566\n",
            "2014-12-08    2.104387\n",
            "2014-12-09    2.018771\n",
            "2014-12-10    2.672161\n",
            "2014-12-11    3.160494\n",
            "2014-12-12    3.583860\n",
            "2014-12-13    4.024609\n",
            "2014-12-14    3.614563\n",
            "2014-12-15    2.881262\n",
            "2014-12-16    2.317835\n",
            "2014-12-17    2.486274\n",
            "2014-12-18    2.014067\n",
            "2014-12-19    1.758570\n",
            "2014-12-20    2.112422\n",
            "2014-12-21    2.884832\n",
            "2014-12-22    2.428037\n",
            "2014-12-23    2.450229\n",
            "2014-12-24    3.059817\n",
            "2014-12-25    3.137190\n",
            "2014-12-26    2.301751\n",
            "2014-12-27    1.969246\n",
            "2014-12-28    1.800316\n",
            "2014-12-29    2.635462\n",
            "2014-12-30    2.761586\n",
            "2014-12-31    3.497243\n",
            "Freq: D, dtype: float64\n"
          ],
          "name": "stdout"
        },
        {
          "output_type": "display_data",
          "data": {
            "image/png": "[encoded data removed]",
            "text/plain": [
              "<Figure size 432x288 with 1 Axes>"
            ]
          },
          "metadata": {
            "tags": [],
            "needs_background": "light"
          }
        }
      ]
    },
    {
      "cell_type": "code",
      "metadata": {
        "colab": {
          "base_uri": "https://localhost:8080/"
        },
        "id": "1lGmdkGoV98h",
        "outputId": "c99082c0-2ba4-4bca-a397-1454b5f92a24"
      },
      "source": [
        "from math import sqrt\n",
        "from sklearn.metrics import mean_squared_error\n",
        "rmse = (mean_squared_error(test, pred))\n",
        "print(rmse)"
      ],
      "execution_count": null,
      "outputs": [
        {
          "output_type": "stream",
          "text": [
            "0.4273531492724481\n"
          ],
          "name": "stdout"
        }
      ]
    },
    {
      "cell_type": "code",
      "metadata": {
        "id": "TaZD86NxuneA"
      },
      "source": [
        "def mean_absolute_percentage_error(y_true, y_pred): \n",
        "    y_true, y_pred = np.array(y_true), np.array(y_pred)\n",
        "    return np.mean(np.abs((y_true - y_pred) / y_true)) * 100"
      ],
      "execution_count": null,
      "outputs": []
    },
    {
      "cell_type": "code",
      "metadata": {
        "colab": {
          "base_uri": "https://localhost:8080/"
        },
        "id": "WaevPY6GupWJ",
        "outputId": "7e9d4846-df73-45ef-9554-d2cac76c78d1"
      },
      "source": [
        "mean_absolute_percentage_error(test, pred)"
      ],
      "execution_count": null,
      "outputs": [
        {
          "output_type": "execute_result",
          "data": {
            "text/plain": [
              "29.067872698746765"
            ]
          },
          "metadata": {
            "tags": []
          },
          "execution_count": 66
        }
      ]
    },
    {
      "cell_type": "code",
      "metadata": {
        "colab": {
          "base_uri": "https://localhost:8080/",
          "height": 469
        },
        "id": "YHhIhRL-b6cM",
        "outputId": "899e9777-656a-495b-8351-b7e1d7e52824"
      },
      "source": [
        "from statsmodels.tsa.arima_model import ARMA\n",
        "model2 = ARMA(df[\"Wind Speed\"], order=(1, 3)).fit()\n",
        "model2.summary()\n"
      ],
      "execution_count": null,
      "outputs": [
        {
          "output_type": "stream",
          "text": [
            "/usr/local/lib/python3.6/dist-packages/statsmodels/tsa/base/tsa_model.py:162: ValueWarning: No frequency information was provided, so inferred frequency D will be used.\n",
            "  % freq, ValueWarning)\n"
          ],
          "name": "stderr"
        },
        {
          "output_type": "execute_result",
          "data": {
            "text/html": [
              "<table class=\"simpletable\">\n",
              "<caption>ARMA Model Results</caption>\n",
              "<tr>\n",
              "  <th>Dep. Variable:</th>    <td>Wind Speed</td>    <th>  No. Observations:  </th>   <td>5479</td>   \n",
              "</tr>\n",
              "<tr>\n",
              "  <th>Model:</th>            <td>ARMA(1, 3)</td>    <th>  Log Likelihood     </th> <td>-6550.122</td>\n",
              "</tr>\n",
              "<tr>\n",
              "  <th>Method:</th>             <td>css-mle</td>     <th>  S.D. of innovations</th>   <td>0.800</td>  \n",
              "</tr>\n",
              "<tr>\n",
              "  <th>Date:</th>          <td>Fri, 27 Nov 2020</td> <th>  AIC                </th> <td>13112.244</td>\n",
              "</tr>\n",
              "<tr>\n",
              "  <th>Time:</th>              <td>18:01:06</td>     <th>  BIC                </th> <td>13151.896</td>\n",
              "</tr>\n",
              "<tr>\n",
              "  <th>Sample:</th>           <td>01-01-2000</td>    <th>  HQIC               </th> <td>13126.077</td>\n",
              "</tr>\n",
              "<tr>\n",
              "  <th></th>                 <td>- 12-31-2014</td>   <th>                     </th>     <td> </td>    \n",
              "</tr>\n",
              "</table>\n",
              "<table class=\"simpletable\">\n",
              "<tr>\n",
              "          <td></td>            <th>coef</th>     <th>std err</th>      <th>z</th>      <th>P>|z|</th>  <th>[0.025</th>    <th>0.975]</th>  \n",
              "</tr>\n",
              "<tr>\n",
              "  <th>const</th>            <td>    3.0077</td> <td>    0.105</td> <td>   28.523</td> <td> 0.000</td> <td>    2.801</td> <td>    3.214</td>\n",
              "</tr>\n",
              "<tr>\n",
              "  <th>ar.L1.Wind Speed</th> <td>    0.9775</td> <td>    0.005</td> <td>  214.920</td> <td> 0.000</td> <td>    0.969</td> <td>    0.986</td>\n",
              "</tr>\n",
              "<tr>\n",
              "  <th>ma.L1.Wind Speed</th> <td>   -0.2284</td> <td>    0.014</td> <td>  -16.030</td> <td> 0.000</td> <td>   -0.256</td> <td>   -0.200</td>\n",
              "</tr>\n",
              "<tr>\n",
              "  <th>ma.L2.Wind Speed</th> <td>   -0.3708</td> <td>    0.015</td> <td>  -24.516</td> <td> 0.000</td> <td>   -0.400</td> <td>   -0.341</td>\n",
              "</tr>\n",
              "<tr>\n",
              "  <th>ma.L3.Wind Speed</th> <td>   -0.1794</td> <td>    0.013</td> <td>  -13.342</td> <td> 0.000</td> <td>   -0.206</td> <td>   -0.153</td>\n",
              "</tr>\n",
              "</table>\n",
              "<table class=\"simpletable\">\n",
              "<caption>Roots</caption>\n",
              "<tr>\n",
              "    <td></td>   <th>            Real</th>  <th>         Imaginary</th> <th>         Modulus</th>  <th>        Frequency</th>\n",
              "</tr>\n",
              "<tr>\n",
              "  <th>AR.1</th> <td>           1.0231</td> <td>          +0.0000j</td> <td>           1.0231</td> <td>           0.0000</td>\n",
              "</tr>\n",
              "<tr>\n",
              "  <th>MA.1</th> <td>           1.1355</td> <td>          -0.0000j</td> <td>           1.1355</td> <td>          -0.0000</td>\n",
              "</tr>\n",
              "<tr>\n",
              "  <th>MA.2</th> <td>          -1.6011</td> <td>          -1.5315j</td> <td>           2.2156</td> <td>          -0.3785</td>\n",
              "</tr>\n",
              "<tr>\n",
              "  <th>MA.3</th> <td>          -1.6011</td> <td>          +1.5315j</td> <td>           2.2156</td> <td>           0.3785</td>\n",
              "</tr>\n",
              "</table>"
            ],
            "text/plain": [
              "<class 'statsmodels.iolib.summary.Summary'>\n",
              "\"\"\"\n",
              "                              ARMA Model Results                              \n",
              "==============================================================================\n",
              "Dep. Variable:             Wind Speed   No. Observations:                 5479\n",
              "Model:                     ARMA(1, 3)   Log Likelihood               -6550.122\n",
              "Method:                       css-mle   S.D. of innovations              0.800\n",
              "Date:                Fri, 27 Nov 2020   AIC                          13112.244\n",
              "Time:                        18:01:06   BIC                          13151.896\n",
              "Sample:                    01-01-2000   HQIC                         13126.077\n",
              "                         - 12-31-2014                                         \n",
              "====================================================================================\n",
              "                       coef    std err          z      P>|z|      [0.025      0.975]\n",
              "------------------------------------------------------------------------------------\n",
              "const                3.0077      0.105     28.523      0.000       2.801       3.214\n",
              "ar.L1.Wind Speed     0.9775      0.005    214.920      0.000       0.969       0.986\n",
              "ma.L1.Wind Speed    -0.2284      0.014    -16.030      0.000      -0.256      -0.200\n",
              "ma.L2.Wind Speed    -0.3708      0.015    -24.516      0.000      -0.400      -0.341\n",
              "ma.L3.Wind Speed    -0.1794      0.013    -13.342      0.000      -0.206      -0.153\n",
              "                                    Roots                                    \n",
              "=============================================================================\n",
              "                  Real          Imaginary           Modulus         Frequency\n",
              "-----------------------------------------------------------------------------\n",
              "AR.1            1.0231           +0.0000j            1.0231            0.0000\n",
              "MA.1            1.1355           -0.0000j            1.1355           -0.0000\n",
              "MA.2           -1.6011           -1.5315j            2.2156           -0.3785\n",
              "MA.3           -1.6011           +1.5315j            2.2156            0.3785\n",
              "-----------------------------------------------------------------------------\n",
              "\"\"\""
            ]
          },
          "metadata": {
            "tags": []
          },
          "execution_count": 84
        }
      ]
    },
    {
      "cell_type": "code",
      "metadata": {
        "id": "w1XBXsJdcidB"
      },
      "source": [
        "pred2 = model2.predict(start=len(df)-30, end =len(df)-1)"
      ],
      "execution_count": null,
      "outputs": []
    },
    {
      "cell_type": "code",
      "metadata": {
        "id": "Fc-4yQRWkz_S"
      },
      "source": [
        "#test"
      ],
      "execution_count": null,
      "outputs": []
    },
    {
      "cell_type": "code",
      "metadata": {
        "colab": {
          "base_uri": "https://localhost:8080/",
          "height": 788
        },
        "id": "7jOyMlkzc7_L",
        "outputId": "d84eef4c-4b61-451f-d344-4a07fd3b10fc"
      },
      "source": [
        "plt.plot(pred2.values)\n",
        "plt.plot(test.values, color ='red')\n",
        "print(pred2)"
      ],
      "execution_count": null,
      "outputs": [
        {
          "output_type": "stream",
          "text": [
            "2014-12-02    2.625520\n",
            "2014-12-03    1.635074\n",
            "2014-12-04    1.436099\n",
            "2014-12-05    1.590423\n",
            "2014-12-06    2.225390\n",
            "2014-12-07    2.179302\n",
            "2014-12-08    1.852283\n",
            "2014-12-09    1.897846\n",
            "2014-12-10    2.546310\n",
            "2014-12-11    2.837588\n",
            "2014-12-12    3.177831\n",
            "2014-12-13    3.593818\n",
            "2014-12-14    3.139529\n",
            "2014-12-15    2.616800\n",
            "2014-12-16    2.301601\n",
            "2014-12-17    2.575618\n",
            "2014-12-18    2.008005\n",
            "2014-12-19    1.861471\n",
            "2014-12-20    2.258573\n",
            "2014-12-21    2.849854\n",
            "2014-12-22    2.184384\n",
            "2014-12-23    2.386012\n",
            "2014-12-24    2.997563\n",
            "2014-12-25    2.863534\n",
            "2014-12-26    2.078761\n",
            "2014-12-27    2.021862\n",
            "2014-12-28    1.889070\n",
            "2014-12-29    2.692661\n",
            "2014-12-30    2.570602\n",
            "2014-12-31    3.288845\n",
            "Freq: D, dtype: float64\n"
          ],
          "name": "stdout"
        },
        {
          "output_type": "display_data",
          "data": {
            "image/png": "[encoded data removed]",
            "text/plain": [
              "<Figure size 432x288 with 1 Axes>"
            ]
          },
          "metadata": {
            "tags": [],
            "needs_background": "light"
          }
        }
      ]
    },
    {
      "cell_type": "code",
      "metadata": {
        "colab": {
          "base_uri": "https://localhost:8080/"
        },
        "id": "OoVM85N2dGzb",
        "outputId": "b777809d-c1db-4e16-a045-4c89c7d27741"
      },
      "source": [
        "rmse = (mean_squared_error(test, pred2))\n",
        "print(rmse)"
      ],
      "execution_count": null,
      "outputs": [
        {
          "output_type": "stream",
          "text": [
            "0.39594530404466444\n"
          ],
          "name": "stdout"
        }
      ]
    },
    {
      "cell_type": "code",
      "metadata": {
        "colab": {
          "base_uri": "https://localhost:8080/"
        },
        "id": "xQ9JTIgFx8Lw",
        "outputId": "2aab174c-61e2-421c-916e-281e5eaa42bd"
      },
      "source": [
        "mean_absolute_percentage_error(test, pred2)"
      ],
      "execution_count": null,
      "outputs": [
        {
          "output_type": "execute_result",
          "data": {
            "text/plain": [
              "25.738618840965245"
            ]
          },
          "metadata": {
            "tags": []
          },
          "execution_count": 82
        }
      ]
    },
    {
      "cell_type": "code",
      "metadata": {
        "colab": {
          "base_uri": "https://localhost:8080/",
          "height": 687
        },
        "id": "r3eWhyoseFRE",
        "outputId": "f5ef14e6-21e9-4aee-b90b-144e1847e8d3"
      },
      "source": [
        "model3 = ARMA(train, order=(2, 3)).fit()\n",
        "model3.summary()\n",
        "pred3 = model3.predict(start=len(train), end =len(X)-1, dynamic= False)\n",
        "plt.plot(pred3)\n",
        "plt.plot(test, color ='red')\n",
        "print(pred3)\n",
        "rmse = sqrt(mean_squared_error(test, pred3))\n",
        "print(rmse)"
      ],
      "execution_count": null,
      "outputs": [
        {
          "output_type": "stream",
          "text": [
            "/usr/local/lib/python3.6/dist-packages/statsmodels/tsa/arima_model.py:472: FutureWarning: \n",
            "statsmodels.tsa.arima_model.ARMA and statsmodels.tsa.arima_model.ARIMA have\n",
            "been deprecated in favor of statsmodels.tsa.arima.model.ARIMA (note the .\n",
            "between arima and model) and\n",
            "statsmodels.tsa.SARIMAX. These will be removed after the 0.12 release.\n",
            "\n",
            "statsmodels.tsa.arima.model.ARIMA makes use of the statespace framework and\n",
            "is both well tested and maintained.\n",
            "\n",
            "To silence this warning and continue using ARMA and ARIMA until they are\n",
            "removed, use:\n",
            "\n",
            "import warnings\n",
            "warnings.filterwarnings('ignore', 'statsmodels.tsa.arima_model.ARMA',\n",
            "                        FutureWarning)\n",
            "warnings.filterwarnings('ignore', 'statsmodels.tsa.arima_model.ARIMA',\n",
            "                        FutureWarning)\n",
            "\n",
            "  warnings.warn(ARIMA_DEPRECATION_WARN, FutureWarning)\n"
          ],
          "name": "stderr"
        },
        {
          "output_type": "stream",
          "text": [
            "[2.64671037 2.49182347 2.42894583 2.40995649 2.4083286  2.4135112\n",
            " 2.42130859 2.43005323 2.43908325 2.44813686 2.45711135 2.46596732\n",
            " 2.47469048 2.48327656 2.49172521 2.50003764 2.50821565 2.51626126\n",
            " 2.52417654 2.53196359 2.53962447 2.54716122 2.55457586 2.56187035\n",
            " 2.56904666 2.57610668 2.58305231 2.5898854  2.59660777 2.60322122]\n",
            "0.9087085879088114\n"
          ],
          "name": "stdout"
        },
        {
          "output_type": "display_data",
          "data": {
            "image/png": "[encoded data removed]",
            "text/plain": [
              "<Figure size 432x288 with 1 Axes>"
            ]
          },
          "metadata": {
            "tags": [],
            "needs_background": "light"
          }
        }
      ]
    },
    {
      "cell_type": "code",
      "metadata": {
        "id": "8wEKqcrQeFgV"
      },
      "source": [
        "from statsmodels.tsa.arima_model import ARIMA\n",
        "from random import random"
      ],
      "execution_count": null,
      "outputs": []
    },
    {
      "cell_type": "code",
      "metadata": {
        "id": "ohKDA_iBeFkM",
        "colab": {
          "base_uri": "https://localhost:8080/",
          "height": 1000
        },
        "outputId": "226fc979-10ca-4fa3-e373-1371fcd51813"
      },
      "source": [
        "model4 = ARIMA(train, order=(2, 1, 3)).fit()\n",
        "model4.summary()\n",
        "# make prediction\n",
        "pred4 = model4.predict(start=len(train), end =len(X)-1, typ='levels')\n",
        "plt.plot(pred4)\n",
        "plt.plot(test, color ='red')\n",
        "print(pred4)\n",
        "rmse = sqrt(mean_squared_error(test, pred4))\n",
        "print(rmse)"
      ],
      "execution_count": null,
      "outputs": [
        {
          "output_type": "stream",
          "text": [
            "/usr/local/lib/python3.6/dist-packages/statsmodels/tsa/arima_model.py:472: FutureWarning: \n",
            "statsmodels.tsa.arima_model.ARMA and statsmodels.tsa.arima_model.ARIMA have\n",
            "been deprecated in favor of statsmodels.tsa.arima.model.ARIMA (note the .\n",
            "between arima and model) and\n",
            "statsmodels.tsa.SARIMAX. These will be removed after the 0.12 release.\n",
            "\n",
            "statsmodels.tsa.arima.model.ARIMA makes use of the statespace framework and\n",
            "is both well tested and maintained.\n",
            "\n",
            "To silence this warning and continue using ARMA and ARIMA until they are\n",
            "removed, use:\n",
            "\n",
            "import warnings\n",
            "warnings.filterwarnings('ignore', 'statsmodels.tsa.arima_model.ARMA',\n",
            "                        FutureWarning)\n",
            "warnings.filterwarnings('ignore', 'statsmodels.tsa.arima_model.ARIMA',\n",
            "                        FutureWarning)\n",
            "\n",
            "  warnings.warn(ARIMA_DEPRECATION_WARN, FutureWarning)\n",
            "/usr/local/lib/python3.6/dist-packages/statsmodels/tsa/arima_model.py:472: FutureWarning: \n",
            "statsmodels.tsa.arima_model.ARMA and statsmodels.tsa.arima_model.ARIMA have\n",
            "been deprecated in favor of statsmodels.tsa.arima.model.ARIMA (note the .\n",
            "between arima and model) and\n",
            "statsmodels.tsa.SARIMAX. These will be removed after the 0.12 release.\n",
            "\n",
            "statsmodels.tsa.arima.model.ARIMA makes use of the statespace framework and\n",
            "is both well tested and maintained.\n",
            "\n",
            "To silence this warning and continue using ARMA and ARIMA until they are\n",
            "removed, use:\n",
            "\n",
            "import warnings\n",
            "warnings.filterwarnings('ignore', 'statsmodels.tsa.arima_model.ARMA',\n",
            "                        FutureWarning)\n",
            "warnings.filterwarnings('ignore', 'statsmodels.tsa.arima_model.ARIMA',\n",
            "                        FutureWarning)\n",
            "\n",
            "  warnings.warn(ARIMA_DEPRECATION_WARN, FutureWarning)\n"
          ],
          "name": "stderr"
        },
        {
          "output_type": "stream",
          "text": [
            "[2.58066543 2.37166867 2.28264321 2.23861601 2.22181911 2.21181728\n",
            " 2.20912471 2.20640253 2.20625436 2.20524589 2.2054245  2.20490933\n",
            " 2.2050397  2.20471352 2.20476456 2.20453088 2.20452354 2.20434158\n",
            " 2.20429669 2.20414528 2.20407713 2.20394411 2.20386172 2.20373986\n",
            " 2.2036488  2.20353371 2.20343737 2.20332641 2.20322684 2.20311839]\n",
            "0.9545938229704999\n"
          ],
          "name": "stdout"
        },
        {
          "output_type": "display_data",
          "data": {
            "image/png": "[encoded data removed]",
            "text/plain": [
              "<Figure size 432x288 with 1 Axes>"
            ]
          },
          "metadata": {
            "tags": [],
            "needs_background": "light"
          }
        }
      ]
    },
    {
      "cell_type": "code",
      "metadata": {
        "id": "kz8iVLBbeFr8"
      },
      "source": [
        "from statsmodels.tsa.statespace.sarimax import SARIMAX\n",
        "from random import random"
      ],
      "execution_count": null,
      "outputs": []
    },
    {
      "cell_type": "code",
      "metadata": {
        "id": "NeBaeoOkeFvF",
        "colab": {
          "base_uri": "https://localhost:8080/"
        },
        "outputId": "76cd4cb5-68b9-4ad4-fb46-a9150ae97393"
      },
      "source": [
        "model5 = SARIMAX(train, order=(2, 0, 3), seasonal_order=(2, 0, 3, 365)).fit()\n",
        "model5.summary()\n",
        "# make prediction\n",
        "pred5 = model5.predict(start=len(train), end =len(X)-1)\n",
        "plt.plot(pred5)\n",
        "plt.plot(test, color ='red')\n",
        "print(pred5)\n",
        "rmse = sqrt(mean_squared_error(test, pred5))\n",
        "print(rmse)"
      ],
      "execution_count": null,
      "outputs": [
        {
          "output_type": "stream",
          "text": [
            "/usr/local/lib/python3.6/dist-packages/statsmodels/tsa/statespace/sarimax.py:966: UserWarning: Non-stationary starting autoregressive parameters found. Using zeros as starting parameters.\n",
            "  warn('Non-stationary starting autoregressive parameters'\n",
            "/usr/local/lib/python3.6/dist-packages/statsmodels/tsa/statespace/sarimax.py:1009: UserWarning: Non-invertible starting seasonal moving average Using zeros as starting parameters.\n",
            "  warn('Non-invertible starting seasonal moving average'\n"
          ],
          "name": "stderr"
        }
      ]
    },
    {
      "cell_type": "code",
      "metadata": {
        "id": "szQk73M3eFyw"
      },
      "source": [
        ""
      ],
      "execution_count": null,
      "outputs": []
    },
    {
      "cell_type": "code",
      "metadata": {
        "id": "PuAD6MOteF2M"
      },
      "source": [
        ""
      ],
      "execution_count": null,
      "outputs": []
    },
    {
      "cell_type": "code",
      "metadata": {
        "id": "esbWHgoUeFof"
      },
      "source": [
        ""
      ],
      "execution_count": null,
      "outputs": []
    },
    {
      "cell_type": "code",
      "metadata": {
        "id": "GK26Vhc7zqpz"
      },
      "source": [
        "from pmdarima import auto_arima"
      ],
      "execution_count": null,
      "outputs": []
    },
    {
      "cell_type": "code",
      "metadata": {
        "colab": {
          "base_uri": "https://localhost:8080/"
        },
        "id": "rXl3QdRYovoY",
        "outputId": "cbb3162b-9b93-4408-d41d-84b273af27ff"
      },
      "source": [
        "stepwise_fit = auto_arima(df[\"Speed First Difference\"].dropna(), trace= True, suppress_warnings=True)"
      ],
      "execution_count": null,
      "outputs": [
        {
          "output_type": "stream",
          "text": [
            "Performing stepwise search to minimize aic\n",
            " ARIMA(2,1,2)(0,0,0)[0] intercept   : AIC=inf, Time=9.51 sec\n",
            " ARIMA(0,1,0)(0,0,0)[0] intercept   : AIC=15432.490, Time=0.14 sec\n",
            " ARIMA(1,1,0)(0,0,0)[0] intercept   : AIC=15414.755, Time=0.28 sec\n",
            " ARIMA(0,1,1)(0,0,0)[0] intercept   : AIC=15397.519, Time=0.63 sec\n",
            " ARIMA(0,1,0)(0,0,0)[0]             : AIC=15430.490, Time=0.12 sec\n",
            " ARIMA(1,1,1)(0,0,0)[0] intercept   : AIC=inf, Time=5.78 sec\n",
            " ARIMA(0,1,2)(0,0,0)[0] intercept   : AIC=14696.683, Time=2.21 sec\n",
            " ARIMA(1,1,2)(0,0,0)[0] intercept   : AIC=inf, Time=12.22 sec\n",
            " ARIMA(0,1,3)(0,0,0)[0] intercept   : AIC=inf, Time=8.79 sec\n",
            " ARIMA(1,1,3)(0,0,0)[0] intercept   : AIC=inf, Time=9.28 sec\n",
            " ARIMA(0,1,2)(0,0,0)[0]             : AIC=14694.698, Time=0.64 sec\n",
            " ARIMA(0,1,1)(0,0,0)[0]             : AIC=15395.519, Time=0.25 sec\n",
            " ARIMA(1,1,2)(0,0,0)[0]             : AIC=inf, Time=1.89 sec\n",
            " ARIMA(0,1,3)(0,0,0)[0]             : AIC=inf, Time=1.53 sec\n",
            " ARIMA(1,1,1)(0,0,0)[0]             : AIC=inf, Time=1.46 sec\n",
            " ARIMA(1,1,3)(0,0,0)[0]             : AIC=inf, Time=2.67 sec\n",
            "\n",
            "Best model:  ARIMA(0,1,2)(0,0,0)[0]          \n",
            "Total fit time: 57.412 seconds\n"
          ],
          "name": "stdout"
        }
      ]
    },
    {
      "cell_type": "code",
      "metadata": {
        "colab": {
          "base_uri": "https://localhost:8080/",
          "height": 426
        },
        "id": "mdmZ_KxNpWd5",
        "outputId": "1c7a1f82-8faa-4994-a012-160c40479536"
      },
      "source": [
        "stepwise_fit.summary()"
      ],
      "execution_count": null,
      "outputs": [
        {
          "output_type": "execute_result",
          "data": {
            "text/html": [
              "<table class=\"simpletable\">\n",
              "<caption>SARIMAX Results</caption>\n",
              "<tr>\n",
              "  <th>Dep. Variable:</th>           <td>y</td>        <th>  No. Observations:  </th>   <td>5479</td>   \n",
              "</tr>\n",
              "<tr>\n",
              "  <th>Model:</th>           <td>SARIMAX(1, 1, 2)</td> <th>  Log Likelihood     </th> <td>-6544.925</td>\n",
              "</tr>\n",
              "<tr>\n",
              "  <th>Date:</th>            <td>Sat, 21 Nov 2020</td> <th>  AIC                </th> <td>13097.850</td>\n",
              "</tr>\n",
              "<tr>\n",
              "  <th>Time:</th>                <td>02:37:27</td>     <th>  BIC                </th> <td>13124.284</td>\n",
              "</tr>\n",
              "<tr>\n",
              "  <th>Sample:</th>                  <td>0</td>        <th>  HQIC               </th> <td>13107.072</td>\n",
              "</tr>\n",
              "<tr>\n",
              "  <th></th>                      <td> - 5479</td>     <th>                     </th>     <td> </td>    \n",
              "</tr>\n",
              "<tr>\n",
              "  <th>Covariance Type:</th>        <td>opg</td>       <th>                     </th>     <td> </td>    \n",
              "</tr>\n",
              "</table>\n",
              "<table class=\"simpletable\">\n",
              "<tr>\n",
              "     <td></td>       <th>coef</th>     <th>std err</th>      <th>z</th>      <th>P>|z|</th>  <th>[0.025</th>    <th>0.975]</th>  \n",
              "</tr>\n",
              "<tr>\n",
              "  <th>ar.L1</th>  <td>    0.4435</td> <td>    0.021</td> <td>   21.205</td> <td> 0.000</td> <td>    0.403</td> <td>    0.484</td>\n",
              "</tr>\n",
              "<tr>\n",
              "  <th>ma.L1</th>  <td>   -0.6724</td> <td>    0.022</td> <td>  -31.059</td> <td> 0.000</td> <td>   -0.715</td> <td>   -0.630</td>\n",
              "</tr>\n",
              "<tr>\n",
              "  <th>ma.L2</th>  <td>   -0.2471</td> <td>    0.018</td> <td>  -13.806</td> <td> 0.000</td> <td>   -0.282</td> <td>   -0.212</td>\n",
              "</tr>\n",
              "<tr>\n",
              "  <th>sigma2</th> <td>    0.6385</td> <td>    0.011</td> <td>   57.715</td> <td> 0.000</td> <td>    0.617</td> <td>    0.660</td>\n",
              "</tr>\n",
              "</table>\n",
              "<table class=\"simpletable\">\n",
              "<tr>\n",
              "  <th>Ljung-Box (Q):</th>          <td>52.68</td> <th>  Jarque-Bera (JB):  </th> <td>79.32</td>\n",
              "</tr>\n",
              "<tr>\n",
              "  <th>Prob(Q):</th>                <td>0.09</td>  <th>  Prob(JB):          </th> <td>0.00</td> \n",
              "</tr>\n",
              "<tr>\n",
              "  <th>Heteroskedasticity (H):</th> <td>0.92</td>  <th>  Skew:              </th> <td>0.16</td> \n",
              "</tr>\n",
              "<tr>\n",
              "  <th>Prob(H) (two-sided):</th>    <td>0.09</td>  <th>  Kurtosis:          </th> <td>3.49</td> \n",
              "</tr>\n",
              "</table><br/><br/>Warnings:<br/>[1] Covariance matrix calculated using the outer product of gradients (complex-step)."
            ],
            "text/plain": [
              "<class 'statsmodels.iolib.summary.Summary'>\n",
              "\"\"\"\n",
              "                               SARIMAX Results                                \n",
              "==============================================================================\n",
              "Dep. Variable:                      y   No. Observations:                 5479\n",
              "Model:               SARIMAX(1, 1, 2)   Log Likelihood               -6544.925\n",
              "Date:                Sat, 21 Nov 2020   AIC                          13097.850\n",
              "Time:                        02:37:27   BIC                          13124.284\n",
              "Sample:                             0   HQIC                         13107.072\n",
              "                               - 5479                                         \n",
              "Covariance Type:                  opg                                         \n",
              "==============================================================================\n",
              "                 coef    std err          z      P>|z|      [0.025      0.975]\n",
              "------------------------------------------------------------------------------\n",
              "ar.L1          0.4435      0.021     21.205      0.000       0.403       0.484\n",
              "ma.L1         -0.6724      0.022    -31.059      0.000      -0.715      -0.630\n",
              "ma.L2         -0.2471      0.018    -13.806      0.000      -0.282      -0.212\n",
              "sigma2         0.6385      0.011     57.715      0.000       0.617       0.660\n",
              "===================================================================================\n",
              "Ljung-Box (Q):                       52.68   Jarque-Bera (JB):                79.32\n",
              "Prob(Q):                              0.09   Prob(JB):                         0.00\n",
              "Heteroskedasticity (H):               0.92   Skew:                             0.16\n",
              "Prob(H) (two-sided):                  0.09   Kurtosis:                         3.49\n",
              "===================================================================================\n",
              "\n",
              "Warnings:\n",
              "[1] Covariance matrix calculated using the outer product of gradients (complex-step).\n",
              "\"\"\""
            ]
          },
          "metadata": {
            "tags": []
          },
          "execution_count": 19
        }
      ]
    },
    {
      "cell_type": "code",
      "metadata": {
        "id": "rpNAZ16Bqd7y"
      },
      "source": [
        ""
      ],
      "execution_count": null,
      "outputs": []
    },
    {
      "cell_type": "code",
      "metadata": {
        "id": "RhYWnjEJZuRM"
      },
      "source": [
        ""
      ],
      "execution_count": null,
      "outputs": []
    }
  ]
}